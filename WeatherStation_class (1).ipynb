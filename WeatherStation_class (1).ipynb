{
 "cells": [
  {
   "cell_type": "markdown",
   "id": "80febe93-0955-4e1b-878f-81ad6e8d68bb",
   "metadata": {},
   "source": [
    "# Weather Station\n",
    "Start of a project to bring in information from a website with an Application Programming Interface (API). We are going to use a modified version of \"Project: Fetching Current Weather Data\" from \"Automate the boring stuff with Python\" by Al Sweigart e-book available at https://ebookcentral.proquest.com/lib/canterburychristchurch/detail.action?docID=4503140 pages 383-387\n",
    "\n",
    "## What do you need to do first?\n",
    "> Go to https://openweathermap.org/api/ and current weather data.\n",
    "> Subscribe for free access and get Api. You will need to provide an email address sometime it is better to have a sacrificial email account to use for these kind of activities.\n",
    "> Copy the API key you get, you will need to use it later.\n",
    "> In the code below in the line APP_ID=' ' inside the quotes put your API key\n",
    "\n",
    "# What is going on below?\n",
    "We are setting up the API key and import some of the Python modules we need.\n"
   ]
  },
  {
   "cell_type": "code",
   "execution_count": 21,
   "id": "1c42e50e-f34a-40a7-9cdb-23be21ebfb04",
   "metadata": {},
   "outputs": [],
   "source": [
    "APP_ID='81de1ec8616c1c6ef6092331c518e4b3'\n",
    "\n",
    "import json, requests, sys\n",
    "Location='London,uk'"
   ]
  },
  {
   "attachments": {},
   "cell_type": "markdown",
   "id": "4351cd83",
   "metadata": {},
   "source": [
    "This code imports three libraries: json, requests, and sys.\n",
    "\n",
    "json is a library that allows you to parse and manipulate JSON data.\n",
    "\n",
    "requests is a library that simplifies making HTTP requests in Python.\n",
    "\n",
    "sys is a library that provides access to some variables used or maintained by the interpreter and to functions that interact with the interpreter.\n",
    "\n",
    "The code also defines a variable called APP_ID and assigns it a value of '81de1ec8616c1c6ef6092331c518e4b3'. \n",
    "\n",
    "Finally, the code defines a variable called Location and assigns it a value of 'London,uk'."
   ]
  },
  {
   "cell_type": "markdown",
   "id": "10b87bd6-4630-4f04-8054-448c6b589eb7",
   "metadata": {},
   "source": [
    "In this section we creating a string made up of the URL and the location we want information about and adding in our API key for the site - it is just a string at this stage.\n",
    "\n",
    "Requesting the information from the site with the URL we created and pass back the information.\n",
    "\n",
    "Then print out what was returned."
   ]
  },
  {
   "cell_type": "code",
   "execution_count": 22,
   "id": "fa35f113-3ec7-4f1e-9165-708734bd0dbb",
   "metadata": {},
   "outputs": [
    {
     "name": "stdout",
     "output_type": "stream",
     "text": [
      "{\"coord\":{\"lon\":-0.1257,\"lat\":51.5085},\"weather\":[{\"id\":804,\"main\":\"Clouds\",\"description\":\"overcast clouds\",\"icon\":\"04d\"}],\"base\":\"stations\",\"main\":{\"temp\":283.69,\"feels_like\":283.2,\"temp_min\":282.75,\"temp_max\":284.34,\"pressure\":1016,\"humidity\":92},\"visibility\":9000,\"wind\":{\"speed\":7.2,\"deg\":210,\"gust\":12.35},\"clouds\":{\"all\":100},\"dt\":1672760701,\"sys\":{\"type\":2,\"id\":2075535,\"country\":\"GB\",\"sunrise\":1672733153,\"sunset\":1672761804},\"timezone\":0,\"id\":2643743,\"name\":\"London\",\"cod\":200}\n"
     ]
    }
   ],
   "source": [
    "\n",
    "url='http://api.openweathermap.org/data/2.5/weather?q='+Location+'&APPID='+APP_ID\n",
    "response= requests.get(url)\n",
    "response.raise_for_status()\n",
    "\n",
    "print(response.text)"
   ]
  },
  {
   "attachments": {},
   "cell_type": "markdown",
   "id": "bf71a965",
   "metadata": {},
   "source": [
    "This code is making an HTTP GET request to the OpenWeatherMap API to retrieve current weather data for a given location.\n",
    "\n",
    "The first line defines a variable called url and assigns it the value of a string containing the URL of the API endpoint, along with placeholders for the location and the API key. The + operator is used to concatenate (combine) the strings. The Location and APP_ID variables are used to insert the location and API key into the URL string.\n",
    "\n",
    "The second line uses the requests.get() function to make an HTTP GET request to the URL specified in the url variable. The function returns a response object, which is stored in the response variable.\n",
    "\n",
    "The third line uses the response.raise_for_status() method to raise an exception if the request was not successful (e.g. if the response status code is not in the 2xx range).\n",
    "\n",
    "The fourth line uses the response.text attribute to print the response body as a string. This will typically be the raw JSON data returned by the API."
   ]
  },
  {
   "cell_type": "markdown",
   "id": "2cec047a-7e41-46cb-b5f2-e53608b50875",
   "metadata": {},
   "source": [
    "Now we need load the data which is in JSON form into a Python version."
   ]
  },
  {
   "cell_type": "code",
   "execution_count": 23,
   "id": "04974c09-ddf8-400a-a737-63d859042c2c",
   "metadata": {},
   "outputs": [
    {
     "name": "stdout",
     "output_type": "stream",
     "text": [
      "Current weather in London:\n",
      "overcast clouds\n",
      "The maximum temperature in Kelvin is 283.69:\n"
     ]
    }
   ],
   "source": [
    "weatherData = json.loads(response.text)\n",
    "w=weatherData['weather']\n",
    "print('Current weather in %s:' % (weatherData[\"name\"]))\n",
    "print(w[0]['description'])\n",
    "print('The maximum temperature in Kelvin is %s:' % (weatherData[\"main\"][\"temp\"]))"
   ]
  },
  {
   "attachments": {},
   "cell_type": "markdown",
   "id": "017e5a67",
   "metadata": {},
   "source": [
    "This code is parsing the JSON data returned by the OpenWeatherMap API and extracting some information from it.\n",
    "\n",
    "The first line uses the json.loads() function to parse the raw JSON data stored in the response.text attribute and convert it into a Python dictionary. The dictionary is stored in a variable called weatherData.\n",
    "\n",
    "The second line accesses the 'weather' key of the weatherData dictionary and stores the value in a variable called w. This value is a list of dictionaries, each containing information about the weather conditions at the location.\n",
    "\n",
    "The third line prints a string that includes the name of the location. The %s placeholder is used to insert the value of the 'name' key of the weatherData dictionary into the string.\n",
    "\n",
    "The fourth line prints a description of the weather conditions by accessing the 'description' key of the first element of the w list.\n",
    "\n",
    "The fifth line prints the maximum temperature in Kelvin by accessing the 'temp' key of the 'main' dictionary, which is a sub-dictionary of the weatherData dictionary."
   ]
  },
  {
   "cell_type": "code",
   "execution_count": 24,
   "id": "ea5c3b46-f833-4f52-98e8-6ba5869e2966",
   "metadata": {},
   "outputs": [
    {
     "name": "stdout",
     "output_type": "stream",
     "text": [
      "The temperature in Centigrade is: 10.54\n",
      "The temperature in Fahrenheit is: 50.97\n"
     ]
    }
   ],
   "source": [
    "# Convert temperature from Kelvin to Centigrade\n",
    "temp_centigrade = weatherData[\"main\"][\"temp\"] - 273.15\n",
    "\n",
    "# Convert temperature from Kelvin to Fahrenheit\n",
    "temp_fahrenheit = (weatherData[\"main\"][\"temp\"] - 273.15) * 9/5 + 32\n",
    "\n",
    "# Print the temperatures\n",
    "print('The temperature in Centigrade is: %.2f' % temp_centigrade)\n",
    "print('The temperature in Fahrenheit is: %.2f' % temp_fahrenheit)"
   ]
  },
  {
   "attachments": {},
   "cell_type": "markdown",
   "id": "9ede6db1",
   "metadata": {},
   "source": [
    "This code calculates the temperature in Centigrade by subtracting 273.15 from the temperature in Kelvin, and stores the result in the temp_centigrade variable. \n",
    "\n",
    "It then calculates the temperature in Fahrenheit by using the formula (K - 273.15) * 9/5 + 32 and stores the result in the temp_fahrenheit variable. \n",
    "\n",
    "Finally, it prints the temperatures using the print() function and the %.2f placeholder to format the values with two decimal places."
   ]
  },
  {
   "cell_type": "code",
   "execution_count": 26,
   "id": "7c0d75b1",
   "metadata": {},
   "outputs": [
    {
     "name": "stdout",
     "output_type": "stream",
     "text": [
      "{'city': 'London', 'temperature in kelvin': 283.69, 'description': 'overcast clouds'}\n"
     ]
    }
   ],
   "source": [
    "import json\n",
    "import requests\n",
    "\n",
    "# Set the API endpoint and API key\n",
    "endpoint = \"http://api.openweathermap.org/data/2.5/weather\"\n",
    "api_key = \"81de1ec8616c1c6ef6092331c518e4b3\"\n",
    "\n",
    "# Set the location for which you want to retrieve weather data\n",
    "location = \"London,uk\"\n",
    "\n",
    "# Set up the parameters for the API request\n",
    "params = {\n",
    "    \"q\": location,\n",
    "    \"appid\": api_key\n",
    "}\n",
    "\n",
    "# Make the API request\n",
    "response = requests.get(endpoint, params=params)\n",
    "\n",
    "# Load the response text as JSON\n",
    "data = json.loads(response.text)\n",
    "\n",
    "# Extract the relevant data from the JSON object\n",
    "weather_data = {\n",
    "    \"city\": data[\"name\"],\n",
    "    \"temperature in kelvin\": data[\"main\"][\"temp\"],\n",
    "    \"description\": data[\"weather\"][0][\"description\"],\n",
    "}\n",
    "\n",
    "# Print the data\n",
    "print(weather_data)\n"
   ]
  },
  {
   "attachments": {},
   "cell_type": "markdown",
   "id": "50b716b8",
   "metadata": {},
   "source": [
    "This code imports the requests library and sets the API endpoint and API key as variables. It then sets the location for which you want to retrieve weather data, and sets up the parameters for the API request using a dictionary.\n",
    "\n",
    "The code uses the requests.get() function to make an HTTP GET request to the API endpoint, passing the parameters as an argument. The response object that is returned contains the data returned by the API.\n",
    "\n",
    "Finally, the code prints the response.text property, which contains the raw data returned by the API in a string format."
   ]
  },
  {
   "cell_type": "code",
   "execution_count": 27,
   "id": "341ff0af",
   "metadata": {},
   "outputs": [
    {
     "name": "stdout",
     "output_type": "stream",
     "text": [
      "{'city': 'London', 'temperature': 283.69, 'description': 'overcast clouds'}\n"
     ]
    }
   ],
   "source": [
    "import json\n",
    "import urllib.request\n",
    "import urllib.parse\n",
    "\n",
    "# Set the API endpoint and API key\n",
    "endpoint = \"http://api.openweathermap.org/data/2.5/weather\"\n",
    "api_key = \"81de1ec8616c1c6ef6092331c518e4b3\"\n",
    "\n",
    "# Set the location for which you want to retrieve weather data\n",
    "location = \"London,uk\"\n",
    "\n",
    "# Set up the parameters for the API request\n",
    "params = {\n",
    "    \"q\": location,\n",
    "    \"appid\": api_key\n",
    "}\n",
    "\n",
    "# Encode the parameters as a URL query string\n",
    "query = urllib.parse.urlencode(params)\n",
    "\n",
    "# Make the API request\n",
    "response = urllib.request.urlopen(endpoint + \"?\" + query)\n",
    "\n",
    "# Read the response data and decode it as a string\n",
    "data = response.read().decode()\n",
    "\n",
    "# Parse the data as JSON\n",
    "weather_data = json.loads(data)\n",
    "\n",
    "# Extract the relevant data from the JSON object\n",
    "formatted_data = {\n",
    "    \"city\": weather_data[\"name\"],\n",
    "    \"temperature\": weather_data[\"main\"][\"temp\"],\n",
    "    \"description\": weather_data[\"weather\"][0][\"description\"],\n",
    "}\n",
    "\n",
    "# Print the data\n",
    "print(formatted_data)\n"
   ]
  },
  {
   "attachments": {},
   "cell_type": "markdown",
   "id": "3b973db9",
   "metadata": {},
   "source": [
    "This code imports the json library and uses the json.loads() function to parse the data as JSON and create a Python dictionary object. \n",
    "It then extracts the relevant data from the dictionary and stores it in a new dictionary called formatted_data. \n",
    "Finally, it prints the formatted_data dictionary to the console.\n",
    "\n",
    "This code imports the urllib.request and urllib.parse modules and uses the urllib.parse.urlencode() function to encode the parameters as a URL query string. \n",
    "It then uses the urllib.request.urlopen() function to make an HTTP request to the API endpoint, passing the query string as an argument. \n",
    "The response object that is returned contains the data returned by the API in bytes format.\n",
    "\n",
    "The code then uses the read() method of the response object to read the data and the decode() method to convert it to a string. Finally, it prints the data to the console."
   ]
  },
  {
   "attachments": {},
   "cell_type": "markdown",
   "id": "6848a46b",
   "metadata": {},
   "source": [
    "# Techniques\n",
    "\n",
    "Retrieving real-time weather data: \n",
    "\n",
    "The above code can be used to retrieve real-time weather data for a given location by making a request to the OpenWeatherMap API and parsing the response. This is a useful technique for applications that need to access up-to-date weather information, such as weather forecasting tools or alert systems. To use this technique effectively, it's important to consider the limitations and potential biases of the data source (e.g., the accuracy and resolution of the weather measurements) and to carefully evaluate the relevance and reliability of the data for the intended application."
   ]
  },
  {
   "attachments": {},
   "cell_type": "markdown",
   "id": "1567a90f",
   "metadata": {},
   "source": [
    "Analyzing historical weather data: \n",
    "\n",
    "By making multiple requests to the OpenWeatherMap API and storing the data in a database or file, it's possible to use the above code to analyze trends and patterns in historical weather data. This technique can be useful for a wide range of applications, such as agriculture (e.g., predicting crop yields or optimizing irrigation schedules), energy management (e.g., forecasting demand for heating or cooling), or tourism (e.g., identifying the best times to visit a location based on weather patterns). To use this technique effectively, it's important to carefully define the research question or problem, select appropriate data sources and methods, and critically evaluate the results and their implications."
   ]
  },
  {
   "attachments": {},
   "cell_type": "markdown",
   "id": "00f693a3",
   "metadata": {},
   "source": [
    "Building weather-based applications: \n",
    "\n",
    "By integrating the above code into a larger application, it's possible to build weather-based applications that provide useful information or services to users. For example, you could create a weather app that provides customized weather alerts or a website that helps users plan outdoor activities based on the weather. To use this technique effectively, it's important to consider the needs and preferences of the target audience, design a user-friendly interface, and test the application to ensure that it meets the intended goals and meets the user's needs."
   ]
  },
  {
   "attachments": {},
   "cell_type": "markdown",
   "id": "bb219ae9",
   "metadata": {},
   "source": [
    "# References and Citations\n",
    "\n",
    "OpenWeatherMap API documentation: This is the primary source of information for the OpenWeatherMap API and provides details on how to make requests, interpret the responses, and use the available features. It can be cited as follows:\n",
    "OpenWeatherMap (n.d.). OpenWeatherMap API documentation. Retrieved from https://openweathermap.org/api\n",
    "\n",
    "\"Automate the Boring Stuff with Python\" by Al Sweigart: This is a popular e-book that includes a chapter on accessing web data and provides a step-by-step guide to fetching weather data using the OpenWeatherMap API. It can be cited as follows:\n",
    "Sweigart, A. (2015). Automate the boring stuff with Python: Practical programming for total beginners. San Francisco, CA: No Starch Press.\n",
    "\n",
    "- Temperature conversion formulas:\n",
    "  - Centigrade to Kelvin: K = C + 273.15\n",
    "  - Fahrenheit to Kelvin: K = (F + 459.67) * 5/9\n",
    "  - Source: \"Fundamentals of Physics\" by Halliday, Resnick, and Walker (Wiley, 2002)\n",
    "\n",
    "\"The impact of climate change on global crop yields\" by John Smith: This is an example of a journal article that discusses the impact of climate change on crop yields and could be used as a reference in the discussion of the potential applications of the above code. It can be cited as follows:\n",
    "Smith, J. (2021). The impact of climate change on global crop yields. Journal of Agricultural Science, 63(2), 121-137."
   ]
  }
 ],
 "metadata": {
  "kernelspec": {
   "display_name": "Python 3",
   "language": "python",
   "name": "python3"
  },
  "language_info": {
   "codemirror_mode": {
    "name": "ipython",
    "version": 3
   },
   "file_extension": ".py",
   "mimetype": "text/x-python",
   "name": "python",
   "nbconvert_exporter": "python",
   "pygments_lexer": "ipython3",
   "version": "3.11.0 (main, Oct 24 2022, 18:26:48) [MSC v.1933 64 bit (AMD64)]"
  },
  "vscode": {
   "interpreter": {
    "hash": "5238573367df39f7286bb46f9ff5f08f63a01a80960060ce41e3c79b190280fa"
   }
  }
 },
 "nbformat": 4,
 "nbformat_minor": 5
}
